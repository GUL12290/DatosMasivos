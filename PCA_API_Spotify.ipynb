{
 "cells": [
  {
   "cell_type": "markdown",
   "id": "95b28da2-3918-471b-89f6-3752a62f1b32",
   "metadata": {},
   "source": [
    "# PCA"
   ]
  },
  {
   "cell_type": "markdown",
   "id": "cda99b67-fcd3-450e-9afd-842038d806ac",
   "metadata": {},
   "source": [
    "## Preparación del entorno"
   ]
  },
  {
   "cell_type": "code",
   "execution_count": 18,
   "id": "e865ca17-f973-4bd2-8d18-d9b9ff47695e",
   "metadata": {
    "tags": []
   },
   "outputs": [],
   "source": [
    "import requests\n",
    "import pandas as pd\n",
    "import numpy as np\n",
    "import matplotlib.pyplot as plt\n",
    "from sklearn.decomposition import PCA\n",
    "from sklearn.preprocessing import StandardScaler\n",
    "import seaborn as sns\n",
    "\n",
    "# Replace 'YOUR_CLIENT_ID' and 'YOUR_CLIENT_SECRET' with your Spotify Developer application credentials\n",
    "client_id = '11f840e394b549bb9f6d77fb425a4704'\n",
    "client_secret = '0706ac523bb248fca927ef0ea072dfe4'\n",
    "\n",
    "# Authenticate with the Spotify API to get an access token\n",
    "token_url = 'https://accounts.spotify.com/api/token'\n",
    "data = {'grant_type': 'client_credentials'}\n",
    "response = requests.post(token_url, data=data, auth=(client_id, client_secret))\n",
    "token_data = response.json()\n",
    "access_token = token_data['access_token']\n"
   ]
  },
  {
   "cell_type": "markdown",
   "id": "3cf76c37-e015-471b-bc93-b5a1ece19103",
   "metadata": {},
   "source": [
    "### Cargar Playlist"
   ]
  },
  {
   "cell_type": "code",
   "execution_count": 11,
   "id": "815b818e-b484-48b2-b08d-5fa149393229",
   "metadata": {
    "tags": []
   },
   "outputs": [
    {
     "name": "stdout",
     "output_type": "stream",
     "text": [
      "Playlist Name: Today's Top Hits \n",
      "Number of Tracks: 50\n"
     ]
    }
   ],
   "source": [
    "headers = {\n",
    "    'Authorization': f'Bearer {access_token}',\n",
    "}\n",
    "\n",
    "playlist_id = '37i9dQZF1DXcBWIGoYBM5M'\n",
    "\n",
    "playlist_url = f'https://api.spotify.com/v1/playlists/{playlist_id}'\n",
    "\n",
    "response = requests.get(playlist_url, headers=headers)\n",
    "\n",
    "if response.status_code == 200:\n",
    "    playlist_data = response.json()\n",
    "    playlist_name = playlist_data['name']\n",
    "    track_data = playlist_data['tracks']['items']\n",
    "\n",
    "    tracks = []\n",
    "\n",
    "    for track in track_data:\n",
    "        track_id = track['track']['id']\n",
    "\n",
    "        # Obtener información detallada de la pista\n",
    "        track_info_url = f'https://api.spotify.com/v1/audio-features/{track_id}'\n",
    "        track_info_response = requests.get(track_info_url, headers=headers)\n",
    "\n",
    "        if track_info_response.status_code == 200:\n",
    "            track_info = track_info_response.json()\n",
    "            track_name = track['track']['name']\n",
    "            artist_names = [artist['name'] for artist in track['track']['artists']]\n",
    "            album_name = track['track']['album']['name']\n",
    "            track_uri = track['track']['uri']\n",
    "\n",
    "            # Extraer características adicionales\n",
    "            tempo = track_info['tempo']\n",
    "            energy = track_info['energy']\n",
    "            duration_ms = track_info['duration_ms']\n",
    "            popularity = track['track']['popularity']\n",
    "            danceability = track_info['danceability']\n",
    "            liveness = track_info['liveness']\n",
    "            instrumentalness = track_info['instrumentalness']\n",
    "            valence = track_info['valence']\n",
    "            acousticness = track_info['acousticness']\n",
    "            speechiness = track_info['speechiness']\n",
    "            key = track_info['key']\n",
    "            mode = track_info['mode']\n",
    "\n",
    "            tracks.append({\n",
    "                'Track Name': track_name,\n",
    "                'Artist(s)': ', '.join(artist_names),\n",
    "                'Album Name': album_name,\n",
    "                'Track URI': track_uri,\n",
    "                'Tempo': tempo,\n",
    "                'Energy': energy,\n",
    "                'Duration (ms)': duration_ms,\n",
    "                'Popularity': popularity,\n",
    "                'Danceability': danceability,\n",
    "                'Liveness': liveness,\n",
    "                'Instrumentalness': instrumentalness,\n",
    "                'Valence': valence,\n",
    "                'Acousticness': acousticness,\n",
    "                'Speechiness': speechiness,\n",
    "                'Key': key,\n",
    "                'Mode': mode,\n",
    "            })\n",
    "\n",
    "    df = pd.DataFrame(tracks)\n",
    "\n",
    "    df.to_csv('playlist_data.csv', index=False)\n",
    "\n",
    "    print(f\"Playlist Name: {playlist_name}\")\n",
    "    print(f\"Number of Tracks: {len(tracks)}\")\n",
    "else:\n",
    "    print(f\"Error: Unable to fetch playlist data. Status code: {response.status_code}\")\n"
   ]
  },
  {
   "cell_type": "markdown",
   "id": "1e87160e-6261-4ae2-8853-571c0e6e3d42",
   "metadata": {
    "tags": []
   },
   "source": [
    "# Ejercicio"
   ]
  },
  {
   "cell_type": "markdown",
   "id": "6829ac95-9c09-444e-8067-ce06160c4448",
   "metadata": {},
   "source": [
    "## PCA 2 componentes"
   ]
  },
  {
   "cell_type": "code",
   "execution_count": 13,
   "id": "dc09f890-72ac-4ea1-8340-a2fec74406ee",
   "metadata": {
    "tags": []
   },
   "outputs": [
    {
     "data": {
      "text/html": [
       "<div>\n",
       "<style scoped>\n",
       "    .dataframe tbody tr th:only-of-type {\n",
       "        vertical-align: middle;\n",
       "    }\n",
       "\n",
       "    .dataframe tbody tr th {\n",
       "        vertical-align: top;\n",
       "    }\n",
       "\n",
       "    .dataframe thead th {\n",
       "        text-align: right;\n",
       "    }\n",
       "</style>\n",
       "<table border=\"1\" class=\"dataframe\">\n",
       "  <thead>\n",
       "    <tr style=\"text-align: right;\">\n",
       "      <th></th>\n",
       "      <th>Track Name</th>\n",
       "      <th>Artist(s)</th>\n",
       "      <th>Album Name</th>\n",
       "      <th>Track URI</th>\n",
       "      <th>Tempo</th>\n",
       "      <th>Energy</th>\n",
       "      <th>Duration (ms)</th>\n",
       "      <th>Popularity</th>\n",
       "      <th>Danceability</th>\n",
       "      <th>Liveness</th>\n",
       "      <th>Instrumentalness</th>\n",
       "      <th>Valence</th>\n",
       "      <th>Acousticness</th>\n",
       "      <th>Speechiness</th>\n",
       "      <th>Key</th>\n",
       "      <th>Mode</th>\n",
       "    </tr>\n",
       "  </thead>\n",
       "  <tbody>\n",
       "    <tr>\n",
       "      <th>0</th>\n",
       "      <td>get him back!</td>\n",
       "      <td>Olivia Rodrigo</td>\n",
       "      <td>GUTS</td>\n",
       "      <td>spotify:track:2gyxAWHebV7xPYVxqoi86f</td>\n",
       "      <td>162.043</td>\n",
       "      <td>0.846</td>\n",
       "      <td>211141</td>\n",
       "      <td>56</td>\n",
       "      <td>0.546</td>\n",
       "      <td>0.6070</td>\n",
       "      <td>0.000000</td>\n",
       "      <td>0.740</td>\n",
       "      <td>0.0135</td>\n",
       "      <td>0.181</td>\n",
       "      <td>5</td>\n",
       "      <td>1</td>\n",
       "    </tr>\n",
       "    <tr>\n",
       "      <th>1</th>\n",
       "      <td>Paint The Town Red</td>\n",
       "      <td>Doja Cat</td>\n",
       "      <td>Paint The Town Red</td>\n",
       "      <td>spotify:track:2IGMVunIBsBLtEQyoI1Mu7</td>\n",
       "      <td>99.968</td>\n",
       "      <td>0.538</td>\n",
       "      <td>231750</td>\n",
       "      <td>98</td>\n",
       "      <td>0.868</td>\n",
       "      <td>0.0901</td>\n",
       "      <td>0.000003</td>\n",
       "      <td>0.732</td>\n",
       "      <td>0.2690</td>\n",
       "      <td>0.174</td>\n",
       "      <td>5</td>\n",
       "      <td>1</td>\n",
       "    </tr>\n",
       "    <tr>\n",
       "      <th>2</th>\n",
       "      <td>Dance The Night - From Barbie The Album</td>\n",
       "      <td>Dua Lipa</td>\n",
       "      <td>Dance The Night (From Barbie The Album)</td>\n",
       "      <td>spotify:track:1vYXt7VSjH9JIM5oRRo7vA</td>\n",
       "      <td>110.056</td>\n",
       "      <td>0.845</td>\n",
       "      <td>176579</td>\n",
       "      <td>97</td>\n",
       "      <td>0.671</td>\n",
       "      <td>0.3290</td>\n",
       "      <td>0.000000</td>\n",
       "      <td>0.775</td>\n",
       "      <td>0.0207</td>\n",
       "      <td>0.048</td>\n",
       "      <td>11</td>\n",
       "      <td>0</td>\n",
       "    </tr>\n",
       "  </tbody>\n",
       "</table>\n",
       "</div>"
      ],
      "text/plain": [
       "                                Track Name       Artist(s)  \\\n",
       "0                            get him back!  Olivia Rodrigo   \n",
       "1                       Paint The Town Red        Doja Cat   \n",
       "2  Dance The Night - From Barbie The Album        Dua Lipa   \n",
       "\n",
       "                                Album Name  \\\n",
       "0                                     GUTS   \n",
       "1                       Paint The Town Red   \n",
       "2  Dance The Night (From Barbie The Album)   \n",
       "\n",
       "                              Track URI    Tempo  Energy  Duration (ms)  \\\n",
       "0  spotify:track:2gyxAWHebV7xPYVxqoi86f  162.043   0.846         211141   \n",
       "1  spotify:track:2IGMVunIBsBLtEQyoI1Mu7   99.968   0.538         231750   \n",
       "2  spotify:track:1vYXt7VSjH9JIM5oRRo7vA  110.056   0.845         176579   \n",
       "\n",
       "   Popularity  Danceability  Liveness  Instrumentalness  Valence  \\\n",
       "0          56         0.546    0.6070          0.000000    0.740   \n",
       "1          98         0.868    0.0901          0.000003    0.732   \n",
       "2          97         0.671    0.3290          0.000000    0.775   \n",
       "\n",
       "   Acousticness  Speechiness  Key  Mode  \n",
       "0        0.0135        0.181    5     1  \n",
       "1        0.2690        0.174    5     1  \n",
       "2        0.0207        0.048   11     0  "
      ]
     },
     "execution_count": 13,
     "metadata": {},
     "output_type": "execute_result"
    }
   ],
   "source": [
    "df.head(3)"
   ]
  },
  {
   "cell_type": "code",
   "execution_count": 14,
   "id": "6577acbf-df79-453b-aa36-6ed6088485ae",
   "metadata": {
    "tags": []
   },
   "outputs": [
    {
     "data": {
      "text/plain": [
       "Index(['Track Name', 'Artist(s)', 'Album Name', 'Track URI', 'Tempo', 'Energy',\n",
       "       'Duration (ms)', 'Popularity', 'Danceability', 'Liveness',\n",
       "       'Instrumentalness', 'Valence', 'Acousticness', 'Speechiness', 'Key',\n",
       "       'Mode'],\n",
       "      dtype='object')"
      ]
     },
     "execution_count": 14,
     "metadata": {},
     "output_type": "execute_result"
    }
   ],
   "source": [
    "df.columns"
   ]
  },
  {
   "cell_type": "code",
   "execution_count": 16,
   "id": "1d7d1b3c-7c3f-406a-9d21-447e0e9010f0",
   "metadata": {
    "tags": []
   },
   "outputs": [
    {
     "data": {
      "text/plain": [
       "50"
      ]
     },
     "execution_count": 16,
     "metadata": {},
     "output_type": "execute_result"
    }
   ],
   "source": [
    "len(df)"
   ]
  },
  {
   "cell_type": "code",
   "execution_count": 27,
   "id": "7cc40203-487c-4fd7-8545-985a17d8ff39",
   "metadata": {
    "tags": []
   },
   "outputs": [
    {
     "data": {
      "image/png": "[encoded data removed]",
      "text/plain": [
       "<Figure size 1200x800 with 1 Axes>"
      ]
     },
     "metadata": {},
     "output_type": "display_data"
    }
   ],
   "source": [
    "# Seleccionar las columnas numéricas para PCA (excluir las columnas no numéricas)\n",
    "numeric_columns = ['Tempo', 'Energy', 'Duration (ms)', 'Popularity', 'Danceability',\n",
    "                   'Liveness', 'Instrumentalness', 'Valence', 'Acousticness',\n",
    "                   'Speechiness', 'Key', 'Mode']\n",
    "\n",
    "# Estandarizar los datos\n",
    "scaler = StandardScaler()\n",
    "df[numeric_columns] = scaler.fit_transform(df[numeric_columns])\n",
    "\n",
    "# Aplicar PCA con 2 componentes principales\n",
    "pca = PCA(n_components=2)\n",
    "principal_components = pca.fit_transform(df[numeric_columns])\n",
    "\n",
    "# Crear un nuevo DataFrame con los componentes principales y el nombre de la canción\n",
    "pca_df = pd.DataFrame(data=principal_components, columns=['PC1', 'PC2'])\n",
    "pca_df['Track Name'] = df['Track Name']\n",
    "\n",
    "# Generar una paleta de colores única basada en el nombre de la canción\n",
    "unique_track_names = df['Track Name'].unique()\n",
    "color_palette = sns.color_palette(\"hsv\", len(unique_track_names))\n",
    "\n",
    "# Asignar un color a cada canción en base al nombre\n",
    "color_dict = {track_name: color for track_name, color in zip(unique_track_names, color_palette)}\n",
    "pca_df['Color'] = pca_df['Track Name'].map(color_dict)\n",
    "\n",
    "# Graficar los 2 primeros componentes principales en un scatterplot con colores\n",
    "plt.figure(figsize=(12, 8))\n",
    "plt.scatter(pca_df['PC1'], pca_df['PC2'], c=pca_df['Color'], alpha=0.5)\n",
    "plt.title('PCA - 2 Componentes Principales')\n",
    "plt.xlabel('PC1')\n",
    "plt.ylabel('PC2')\n",
    "\n",
    "# Agregar etiquetas de nombres de canciones a algunos puntos (ajusta según tus preferencias)\n",
    "for i in range(len(pca_df)):\n",
    "    if i % 10 == 0:\n",
    "        plt.annotate(pca_df.loc[i, 'Track Name'], (pca_df.loc[i, 'PC1'], pca_df.loc[i, 'PC2']))\n",
    "\n",
    "plt.grid(True)\n",
    "plt.show()"
   ]
  },
  {
   "cell_type": "markdown",
   "id": "fbc56550-42f3-4f45-ba2c-e413bcde7fef",
   "metadata": {},
   "source": [
    "## Nota: Se agregó solo el nombre a algunos puntos para evitar el desorden y amontonamiento de etiquetas"
   ]
  },
  {
   "cell_type": "code",
   "execution_count": null,
   "id": "428e587f-7036-4e4c-b6f9-fa8e507a1cdd",
   "metadata": {},
   "outputs": [],
   "source": []
  }
 ],
 "metadata": {
  "kernelspec": {
   "display_name": "Python 3 (ipykernel)",
   "language": "python",
   "name": "python3"
  },
  "language_info": {
   "codemirror_mode": {
    "name": "ipython",
    "version": 3
   },
   "file_extension": ".py",
   "mimetype": "text/x-python",
   "name": "python",
   "nbconvert_exporter": "python",
   "pygments_lexer": "ipython3",
   "version": "3.11.2"
  }
 },
 "nbformat": 4,
 "nbformat_minor": 5
}
